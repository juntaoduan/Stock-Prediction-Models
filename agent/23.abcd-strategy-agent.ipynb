{
 "cells": [
  {
   "cell_type": "code",
   "execution_count": 23,
   "metadata": {},
   "outputs": [],
   "source": [
    "import numpy as np\n",
    "import pandas as pd\n",
    "import matplotlib.pyplot as plt\n",
    "import seaborn as sns\n",
    "sns.set()"
   ]
  },
  {
   "cell_type": "code",
   "execution_count": 24,
   "metadata": {},
   "outputs": [
    {
     "data": {
      "text/html": [
       "<div>\n",
       "<style scoped>\n",
       "    .dataframe tbody tr th:only-of-type {\n",
       "        vertical-align: middle;\n",
       "    }\n",
       "\n",
       "    .dataframe tbody tr th {\n",
       "        vertical-align: top;\n",
       "    }\n",
       "\n",
       "    .dataframe thead th {\n",
       "        text-align: right;\n",
       "    }\n",
       "</style>\n",
       "<table border=\"1\" class=\"dataframe\">\n",
       "  <thead>\n",
       "    <tr style=\"text-align: right;\">\n",
       "      <th></th>\n",
       "      <th>Date</th>\n",
       "      <th>High</th>\n",
       "      <th>Low</th>\n",
       "      <th>Open</th>\n",
       "      <th>Close</th>\n",
       "      <th>Volume</th>\n",
       "      <th>Adj Close</th>\n",
       "    </tr>\n",
       "  </thead>\n",
       "  <tbody>\n",
       "    <tr>\n",
       "      <th>0</th>\n",
       "      <td>2006-01-03</td>\n",
       "      <td>217.021545</td>\n",
       "      <td>208.329132</td>\n",
       "      <td>210.471100</td>\n",
       "      <td>216.802368</td>\n",
       "      <td>26340763.0</td>\n",
       "      <td>216.802368</td>\n",
       "    </tr>\n",
       "    <tr>\n",
       "      <th>1</th>\n",
       "      <td>2006-01-04</td>\n",
       "      <td>223.641739</td>\n",
       "      <td>219.053925</td>\n",
       "      <td>221.121185</td>\n",
       "      <td>221.788681</td>\n",
       "      <td>30687394.0</td>\n",
       "      <td>221.788681</td>\n",
       "    </tr>\n",
       "    <tr>\n",
       "      <th>2</th>\n",
       "      <td>2006-01-05</td>\n",
       "      <td>224.931900</td>\n",
       "      <td>219.925659</td>\n",
       "      <td>222.167267</td>\n",
       "      <td>224.777481</td>\n",
       "      <td>21697624.0</td>\n",
       "      <td>224.777481</td>\n",
       "    </tr>\n",
       "    <tr>\n",
       "      <th>3</th>\n",
       "      <td>2006-01-06</td>\n",
       "      <td>234.371521</td>\n",
       "      <td>225.773743</td>\n",
       "      <td>227.581970</td>\n",
       "      <td>231.960556</td>\n",
       "      <td>35646914.0</td>\n",
       "      <td>231.960556</td>\n",
       "    </tr>\n",
       "    <tr>\n",
       "      <th>4</th>\n",
       "      <td>2006-01-09</td>\n",
       "      <td>235.816101</td>\n",
       "      <td>229.609375</td>\n",
       "      <td>232.334152</td>\n",
       "      <td>232.578247</td>\n",
       "      <td>25679694.0</td>\n",
       "      <td>232.578247</td>\n",
       "    </tr>\n",
       "  </tbody>\n",
       "</table>\n",
       "</div>"
      ],
      "text/plain": [
       "         Date        High         Low        Open       Close      Volume  \\\n",
       "0  2006-01-03  217.021545  208.329132  210.471100  216.802368  26340763.0   \n",
       "1  2006-01-04  223.641739  219.053925  221.121185  221.788681  30687394.0   \n",
       "2  2006-01-05  224.931900  219.925659  222.167267  224.777481  21697624.0   \n",
       "3  2006-01-06  234.371521  225.773743  227.581970  231.960556  35646914.0   \n",
       "4  2006-01-09  235.816101  229.609375  232.334152  232.578247  25679694.0   \n",
       "\n",
       "    Adj Close  \n",
       "0  216.802368  \n",
       "1  221.788681  \n",
       "2  224.777481  \n",
       "3  231.960556  \n",
       "4  232.578247  "
      ]
     },
     "execution_count": 24,
     "metadata": {},
     "output_type": "execute_result"
    }
   ],
   "source": [
    "df = pd.read_csv('../dataset/GOOG.csv')\n",
    "df.head()"
   ]
  },
  {
   "cell_type": "code",
   "execution_count": 25,
   "metadata": {},
   "outputs": [],
   "source": [
    "def abcd(trend, skip_loop = 180, ma = 365):\n",
    "    ma = pd.Series(trend).rolling(ma).mean().values\n",
    "    x = []\n",
    "    for a in range(ma.shape[0]):\n",
    "        for b in range(a, ma.shape[0], skip_loop):\n",
    "            for c in range(b, ma.shape[0], skip_loop):\n",
    "                for d in range(c, ma.shape[0], skip_loop):\n",
    "                    if ma[b] > ma[a] and \\\n",
    "                    (ma[c] < ma[b] and ma[c] > ma[a]) \\\n",
    "                    and ma[d] > ma[b]:\n",
    "                        x.append([a,b,c,d])\n",
    "    x_np = np.array(x)\n",
    "    ac = x_np[:,0].tolist() + x_np[:,2].tolist()\n",
    "    bd = x_np[:,1].tolist() + x_np[:,3].tolist()\n",
    "    ac_set = set(ac)\n",
    "    bd_set = set(bd)\n",
    "    signal = np.zeros(len(trend))\n",
    "    buy = list(ac_set - bd_set)\n",
    "    sell = list(list(bd_set - ac_set))\n",
    "    signal[buy] = 1.0\n",
    "    signal[sell] = -1.0\n",
    "    return signal"
   ]
  },
  {
   "cell_type": "code",
   "execution_count": 26,
   "metadata": {},
   "outputs": [
    {
     "name": "stdout",
     "output_type": "stream",
     "text": [
      "Wall time: 33.5 s\n"
     ]
    }
   ],
   "source": [
    "%%time\n",
    "signal = abcd(df['Close'])"
   ]
  },
  {
   "cell_type": "code",
   "execution_count": 27,
   "metadata": {},
   "outputs": [],
   "source": [
    "def buy_stock(\n",
    "    real_movement,\n",
    "    signal,\n",
    "    initial_money = 10000,\n",
    "    max_buy = 1000,\n",
    "    max_sell = 1000,\n",
    "):\n",
    "    \"\"\"\n",
    "    real_movement = actual movement in the real world\n",
    "    delay = how much interval you want to delay to change our decision from buy to sell, vice versa\n",
    "    initial_state = 1 is buy, 0 is sell\n",
    "    initial_money = 10000, ignore what kind of currency\n",
    "    max_buy = max quantity for share to buy\n",
    "    max_sell = max quantity for share to sell\n",
    "    \"\"\"\n",
    "    starting_money = initial_money\n",
    "    states_sell = []\n",
    "    states_buy = []\n",
    "    states_money = []\n",
    "    current_inventory = 0\n",
    "    \n",
    "    def buy(i, initial_money, current_inventory):\n",
    "        shares = initial_money // real_movement[i]\n",
    "        if shares < 1:\n",
    "            print(\n",
    "                'day %d: total balances %f, not enough money to buy a unit price %f'\n",
    "                % (i, initial_money, real_movement[i])\n",
    "            )\n",
    "        else:\n",
    "            if shares > max_buy:\n",
    "                buy_units = max_buy\n",
    "            else:\n",
    "                buy_units = shares\n",
    "            initial_money -= buy_units * real_movement[i]\n",
    "            current_inventory += buy_units\n",
    "            print(\n",
    "                'day %d: buy %d units at price %f, total balance %f'\n",
    "                % (i, buy_units, buy_units * real_movement[i], initial_money)\n",
    "            )\n",
    "            states_buy.append(0)\n",
    "        return initial_money, current_inventory\n",
    "    \n",
    "    for i in range(real_movement.shape[0]):\n",
    "        state = signal[i]\n",
    "        if state == 1:\n",
    "            initial_money, current_inventory = buy(\n",
    "                i, initial_money, current_inventory\n",
    "            )\n",
    "            states_buy.append(i)\n",
    "        elif state == -1:\n",
    "            if current_inventory == 0:\n",
    "                    print('day %d: cannot sell anything, inventory 0' % (i))\n",
    "            else:\n",
    "                if current_inventory > max_sell:\n",
    "                    sell_units = max_sell\n",
    "                else:\n",
    "                    sell_units = current_inventory\n",
    "                current_inventory -= sell_units\n",
    "                total_sell = sell_units * real_movement[i]\n",
    "                initial_money += total_sell\n",
    "                try:\n",
    "                    invest = (\n",
    "                        (real_movement[i] - real_movement[states_buy[-1]])\n",
    "                        / real_movement[states_buy[-1]]\n",
    "                    ) * 100\n",
    "                except:\n",
    "                    invest = 0\n",
    "                print(\n",
    "                    'day %d, sell %d units at price %f, investment %f %%, total balance %f,'\n",
    "                    % (i, sell_units, total_sell, invest, initial_money)\n",
    "                )\n",
    "            states_sell.append(i)\n",
    "        states_money.append(initial_money)\n",
    "            \n",
    "    invest = ((initial_money - starting_money) / starting_money) * 100\n",
    "    total_gains = initial_money - starting_money\n",
    "    return states_buy, states_sell, total_gains, invest, states_money"
   ]
  },
  {
   "cell_type": "code",
   "execution_count": null,
   "metadata": {},
   "outputs": [],
   "source": [
    "states_buy, states_sell, total_gains, invest, states_money = buy_stock(df.Close, signal)"
   ]
  },
  {
   "cell_type": "code",
   "execution_count": 29,
   "metadata": {},
   "outputs": [
    {
     "data": {
      "image/png": "[encoded data removed]",
      "text/plain": [
       "<Figure size 1080x360 with 1 Axes>"
      ]
     },
     "metadata": {},
     "output_type": "display_data"
    }
   ],
   "source": [
    "close = df['Close']\n",
    "fig = plt.figure(figsize = (15,5))\n",
    "plt.plot(close, color='r', lw=2.)\n",
    "plt.plot(close, '^', markersize=10, color='m', label = 'buying signal', markevery = states_buy)\n",
    "plt.plot(close, 'v', markersize=10, color='k', label = 'selling signal', markevery = states_sell)\n",
    "plt.title('total gains %f, total investment %f%%'%(total_gains, invest))\n",
    "plt.legend()\n",
    "plt.show()"
   ]
  },
  {
   "cell_type": "code",
   "execution_count": 30,
   "metadata": {},
   "outputs": [
    {
     "data": {
      "image/png": "[encoded data removed]",
      "text/plain": [
       "<Figure size 1080x360 with 1 Axes>"
      ]
     },
     "metadata": {},
     "output_type": "display_data"
    }
   ],
   "source": [
    "fig = plt.figure(figsize = (15,5))\n",
    "plt.plot(states_money, color='r', lw=2.)\n",
    "plt.plot(states_money, '^', markersize=10, color='m', label = 'buying signal', markevery = states_buy)\n",
    "plt.plot(states_money, 'v', markersize=10, color='k', label = 'selling signal', markevery = states_sell)\n",
    "plt.legend()\n",
    "plt.show()"
   ]
  },
  {
   "cell_type": "code",
   "execution_count": null,
   "metadata": {},
   "outputs": [],
   "source": []
  }
 ],
 "metadata": {
  "kernelspec": {
   "display_name": "Python 3",
   "language": "python",
   "name": "python3"
  },
  "language_info": {
   "codemirror_mode": {
    "name": "ipython",
    "version": 3
   },
   "file_extension": ".py",
   "mimetype": "text/x-python",
   "name": "python",
   "nbconvert_exporter": "python",
   "pygments_lexer": "ipython3",
   "version": "3.9.5"
  }
 },
 "nbformat": 4,
 "nbformat_minor": 4
}
