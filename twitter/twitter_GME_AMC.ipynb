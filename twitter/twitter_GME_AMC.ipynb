{
 "cells": [
  {
   "cell_type": "code",
   "execution_count": null,
   "metadata": {},
   "outputs": [],
   "source": [
    "jupyter-lab"
   ]
  },
  {
   "cell_type": "code",
   "execution_count": null,
   "metadata": {},
   "outputs": [],
   "source": [
    "%pip install beautifulsoup4\n",
    "%pip install requests"
   ]
  },
  {
   "cell_type": "code",
   "execution_count": 2,
   "metadata": {},
   "outputs": [
    {
     "name": "stdout",
     "output_type": "stream",
     "text": [
      "Collecting keras\n",
      "  Downloading Keras-2.4.3-py2.py3-none-any.whl (36 kB)\n",
      "Requirement already satisfied: numpy>=1.9.1 in c:\\users\\juntao\\appdata\\local\\programs\\python\\python39\\lib\\site-packages (from keras) (1.20.3)\n",
      "Collecting h5py\n",
      "  Downloading h5py-3.2.1-cp39-cp39-win_amd64.whl (2.8 MB)\n",
      "Collecting scipy>=0.14\n",
      "  Downloading scipy-1.6.3-cp39-cp39-win_amd64.whl (32.7 MB)\n",
      "Collecting pyyaml\n",
      "  Downloading PyYAML-5.4.1-cp39-cp39-win_amd64.whl (213 kB)\n",
      "Installing collected packages: scipy, pyyaml, h5py, keras\n",
      "Successfully installed h5py-3.2.1 keras-2.4.3 pyyaml-5.4.1 scipy-1.6.3\n",
      "Note: you may need to restart the kernel to use updated packages.\n"
     ]
    }
   ],
   "source": [
    "#%pip install \n",
    "beautifulsoup4, requests\n",
    "pandas, scikit-learn, torch, keras, tensorflow, \n",
    "matplotlib,scipy,seaborn,statsmodels\n",
    "xgboost, lightgbm"
   ]
  },
  {
   "cell_type": "code",
   "execution_count": null,
   "metadata": {
    "colab": {
     "base_uri": "https://localhost:8080/"
    },
    "id": "6Rww3hEgJZgS",
    "outputId": "66c05e04-ac86-4a14-e2f9-155966644319"
   },
   "outputs": [
    {
     "name": "stdout",
     "output_type": "stream",
     "text": [
      "/content/drive/My Drive/Colab Notebooks/finance\n"
     ]
    }
   ],
   "source": [
    "# Market\n",
    "#from google.colab import drive\n",
    "#drive.mount('/content/drive')\n",
    "#change dir to your project folder\n",
    "%cd /content/drive/My Drive/Colab Notebooks/finance/  "
   ]
  },
  {
   "cell_type": "code",
   "execution_count": 3,
   "metadata": {
    "colab": {
     "base_uri": "https://localhost:8080/"
    },
    "id": "xC6NboNb6JCi",
    "outputId": "d4797aa1-26cf-44f7-ebef-b910d54416d1"
   },
   "outputs": [
    {
     "name": "stdout",
     "output_type": "stream",
     "text": [
      " Volume in drive C is Windows\n",
      " Volume Serial Number is 428E-E55B\n",
      "\n",
      " Directory of C:\\Users\\JunTao\\Documents\\Github\\Stock-Prediction-Models\\twitter\n",
      "\n",
      "06/05/2021  08:41 AM    <DIR>          .\n",
      "06/05/2021  08:41 AM    <DIR>          ..\n",
      "06/05/2021  08:41 AM    <DIR>          .ipynb_checkpoints\n",
      "06/05/2021  08:33 AM            85,984 Amazon.csv\n",
      "06/05/2021  08:33 AM            21,179 AMC.csv\n",
      "06/05/2021  08:33 AM            77,241 Apple.csv\n",
      "06/05/2021  08:33 AM         2,258,310 corona.csv\n",
      "06/05/2021  08:33 AM           563,598 GME.csv\n",
      "06/05/2021  08:41 AM            31,070 twitter_GME_AMC.ipynb\n",
      "               6 File(s)      3,037,382 bytes\n",
      "               3 Dir(s)  48,145,838,080 bytes free\n"
     ]
    }
   ],
   "source": [
    "ls"
   ]
  },
  {
   "cell_type": "code",
   "execution_count": 2,
   "metadata": {
    "colab": {
     "base_uri": "https://localhost:8080/"
    },
    "id": "wnKE7nNnZbJG",
    "outputId": "9bc826c2-26cb-4774-8832-e21e563f68b9"
   },
   "outputs": [
    {
     "ename": "SyntaxError",
     "evalue": "invalid syntax (<ipython-input-2-6876d9f16496>, line 15)",
     "output_type": "error",
     "traceback": [
      "\u001b[1;36m  File \u001b[1;32m\"<ipython-input-2-6876d9f16496>\"\u001b[1;36m, line \u001b[1;32m15\u001b[0m\n\u001b[1;33m    keys =\u001b[0m\n\u001b[1;37m           ^\u001b[0m\n\u001b[1;31mSyntaxError\u001b[0m\u001b[1;31m:\u001b[0m invalid syntax\n"
     ]
    }
   ],
   "source": [
    "# https://tryolabs.com/blog/2015/02/17/python-elasticsearch-first-steps/\n",
    "import json, csv\n",
    "from tweepy.streaming import StreamListener\n",
    "from tweepy import OAuthHandler\n",
    "from tweepy import Stream\n",
    "from textblob import TextBlob\n",
    "\n",
    "from datetime import date\n",
    "today = date.today()\n",
    "today_date = today.strftime(\"%m/%d/%y\")\n",
    "\n",
    "# Go to http://apps.twitter.com and create an app.\n",
    "# The consumer key and secret will be generated for you after\n",
    "#add your twitter keys\n",
    "keys = \n",
    "consumer_secret = keys[1]\n",
    "access_token = keys[2]\n",
    "access_token_secret = keys[3]\n",
    "\n",
    "\n",
    "\n",
    "\n",
    "class TweetStreamListener(StreamListener):\n",
    "    def __init__(self):\n",
    "        super().__init__()\n",
    "        self.counter = 0\n",
    "        self.limit = 3000\n",
    "        self.csvfile = 'x.csv'\n",
    "\n",
    "    # on success\n",
    "    def on_data(self, data):\n",
    "        #### write data\n",
    "        #with open('twitter_corona.txt','a') as tf:\n",
    "        #  tf.write(data)\n",
    "        #return True\n",
    "\n",
    "\n",
    "        # decode json\n",
    "        dict_data = json.loads(data)\n",
    "\n",
    "        # pass tweet into TextBlob\n",
    "        try: tweet = TextBlob(dict_data[\"text\"])\n",
    "        except: #handle KeyError\n",
    "          return True # end current, continue to next twitter feed\n",
    "\n",
    "        # output sentiment polarity\n",
    "        #print(tweet.sentiment.polarity)\n",
    "        \n",
    "        if tweet.sentiment.polarity != 0:\n",
    "            with open(self.csvfile,'a', newline='') as hf:\n",
    "                hf_writer = csv.writer(hf, delimiter=',')\n",
    "                hf_writer.writerow([today_date, tweet.sentiment.polarity])\n",
    "            self.counter += 1\n",
    "    \n",
    "\n",
    "        # # determine if sentiment is positive, negative, or neutral\n",
    "        # if tweet.sentiment.polarity < 0:\n",
    "        #     sentiment = \"negative\"\n",
    "        # elif tweet.sentiment.polarity == 0:\n",
    "        #     sentiment = \"neutral\"\n",
    "        # else:\n",
    "        #     sentiment = \"positive\"\n",
    "\n",
    "        # # output sentiment\n",
    "        # # print(sentiment) \n",
    "        # with open('twitter_corona.txt','a') as tf:\n",
    "        #   tf.write(sentiment)\n",
    "        #   tf.write('\\n')\n",
    "\n",
    "\n",
    "        if self.counter < self.limit:\n",
    "            return True # end current, continue to next twitter feed\n",
    "        else:\n",
    "            print('Done with', self.csvfile, 'reached the limit ', self.limit)\n",
    "            return False  # end stream  \n",
    "\n",
    "    # on failure\n",
    "    def on_error(self, status):\n",
    "        print(status)\n",
    "\n",
    "if __name__ == '__main__':\n",
    "    # create instance of the tweepy tweet stream listener\n",
    "    listener1 = TweetStreamListener()\n",
    "    listener1.csvfile = 'GME.csv'\n",
    "\n",
    "    listener2 = TweetStreamListener()\n",
    "    listener2.csvfile = 'AMC.csv'\n",
    "\n",
    "    listener3 = TweetStreamListener()\n",
    "    listener3.csvfile = 'Amazon.csv'\n",
    "\n",
    "    listener4 = TweetStreamListener()\n",
    "    listener4.csvfile = 'Apple.csv'\n",
    "    # set twitter keys/tokens\n",
    "    auth = OAuthHandler(consumer_key, consumer_secret)\n",
    "    auth.set_access_token(access_token, access_token_secret)\n",
    "\n",
    "    # create instance of the tweepy stream\n",
    "    stream1 = Stream(auth, listener1)\n",
    "    #stream2 = Stream(auth, listener2)\n",
    "    stream3 = Stream(auth, listener3)\n",
    "    stream4 = Stream(auth, listener4)\n",
    "\n",
    "    # search twitter for keyword\n",
    "    stream1.filter(track=['GME','Gamestop', 'GameStop'])\n",
    "    #stream2.filter(track=['AMC','AMC theatres','AMC stock'])\n",
    "    stream3.filter(track=['Amazon','Amazon stock'])\n",
    "    stream4.filter(track=['Apple','Apple stock'])"
   ]
  },
  {
   "cell_type": "code",
   "execution_count": 4,
   "metadata": {},
   "outputs": [
    {
     "data": {
      "text/plain": [
       "'C:\\\\Users\\\\JunTao\\\\Documents\\\\Github\\\\Stock-Prediction-Models\\\\twitter'"
      ]
     },
     "execution_count": 4,
     "metadata": {},
     "output_type": "execute_result"
    }
   ],
   "source": [
    "import os\n",
    "os.getcwd()"
   ]
  },
  {
   "cell_type": "code",
   "execution_count": 5,
   "metadata": {
    "colab": {
     "base_uri": "https://localhost:8080/",
     "height": 301
    },
    "id": "H_RUdnSL1bIn",
    "outputId": "85ddcc47-98be-4391-d7cd-5a5a3e54ec09"
   },
   "outputs": [
    {
     "name": "stdout",
     "output_type": "stream",
     "text": [
      "           date  sentiment\n",
      "27472  02/04/21    0.50000\n",
      "27473  02/04/21    0.20000\n",
      "27474  02/04/21    0.35000\n",
      "27475  02/04/21    0.40625\n",
      "27476  02/04/21   -0.15000\n"
     ]
    },
    {
     "data": {
      "text/html": [
       "<div>\n",
       "<style scoped>\n",
       "    .dataframe tbody tr th:only-of-type {\n",
       "        vertical-align: middle;\n",
       "    }\n",
       "\n",
       "    .dataframe tbody tr th {\n",
       "        vertical-align: top;\n",
       "    }\n",
       "\n",
       "    .dataframe thead th {\n",
       "        text-align: right;\n",
       "    }\n",
       "</style>\n",
       "<table border=\"1\" class=\"dataframe\">\n",
       "  <thead>\n",
       "    <tr style=\"text-align: right;\">\n",
       "      <th></th>\n",
       "      <th>date</th>\n",
       "      <th>sentiment</th>\n",
       "    </tr>\n",
       "  </thead>\n",
       "  <tbody>\n",
       "    <tr>\n",
       "      <th>0</th>\n",
       "      <td>01/31/21</td>\n",
       "      <td>0.100000</td>\n",
       "    </tr>\n",
       "    <tr>\n",
       "      <th>1</th>\n",
       "      <td>01/31/21</td>\n",
       "      <td>-0.100000</td>\n",
       "    </tr>\n",
       "    <tr>\n",
       "      <th>2</th>\n",
       "      <td>01/31/21</td>\n",
       "      <td>-0.166667</td>\n",
       "    </tr>\n",
       "    <tr>\n",
       "      <th>3</th>\n",
       "      <td>01/31/21</td>\n",
       "      <td>0.100000</td>\n",
       "    </tr>\n",
       "    <tr>\n",
       "      <th>4</th>\n",
       "      <td>01/31/21</td>\n",
       "      <td>0.500000</td>\n",
       "    </tr>\n",
       "  </tbody>\n",
       "</table>\n",
       "</div>"
      ],
      "text/plain": [
       "       date  sentiment\n",
       "0  01/31/21   0.100000\n",
       "1  01/31/21  -0.100000\n",
       "2  01/31/21  -0.166667\n",
       "3  01/31/21   0.100000\n",
       "4  01/31/21   0.500000"
      ]
     },
     "execution_count": 5,
     "metadata": {},
     "output_type": "execute_result"
    }
   ],
   "source": [
    "import pandas as pd\n",
    "df1 = pd.read_csv('GME.csv', header=None, delimiter = \",\")\n",
    "df1.columns = ['date', 'sentiment']\n",
    "print(df1.tail())\n",
    "df2 = pd.read_csv('Amazon.csv', header=None, delimiter = \",\")\n",
    "df2.columns = ['date', 'sentiment']\n",
    "df2.head()\n"
   ]
  },
  {
   "cell_type": "code",
   "execution_count": 6,
   "metadata": {
    "colab": {
     "base_uri": "https://localhost:8080/",
     "height": 265
    },
    "id": "pJEk2cG1Uzw-",
    "outputId": "2a0fc61d-9f47-437d-9b42-ab4c325b89cf"
   },
   "outputs": [
    {
     "data": {
      "image/png": "[encoded data removed]",
      "text/plain": [
       "<Figure size 432x288 with 1 Axes>"
      ]
     },
     "metadata": {
      "needs_background": "light"
     },
     "output_type": "display_data"
    }
   ],
   "source": [
    "import matplotlib.pyplot as plt\n",
    "rolling_1000 = df1.sentiment.rolling(window=1000).mean()\n",
    "df1['rolling'] = rolling_1000.fillna(0)\n",
    "\n",
    "plt.plot(df1['rolling'],'r-')\n",
    "plt.show()\n",
    "\n",
    "\n",
    "#df1.groupby('class').plot(kind='kde', ax=plt.gca())"
   ]
  },
  {
   "cell_type": "code",
   "execution_count": 8,
   "metadata": {
    "colab": {
     "base_uri": "https://localhost:8080/"
    },
    "id": "eQubTAW8p2mM",
    "outputId": "e57ba137-ca3c-42f4-e591-467a1b96aee3"
   },
   "outputs": [],
   "source": [
    "#rolling_1000.fillna(0)"
   ]
  },
  {
   "cell_type": "code",
   "execution_count": 7,
   "metadata": {
    "colab": {
     "base_uri": "https://localhost:8080/",
     "height": 195
    },
    "id": "nur_C83f1FJI",
    "outputId": "2dcbb5ad-1cc5-4aa3-fca2-b904e09367ea"
   },
   "outputs": [
    {
     "data": {
      "text/html": [
       "<div>\n",
       "<style scoped>\n",
       "    .dataframe tbody tr th:only-of-type {\n",
       "        vertical-align: middle;\n",
       "    }\n",
       "\n",
       "    .dataframe tbody tr th {\n",
       "        vertical-align: top;\n",
       "    }\n",
       "\n",
       "    .dataframe thead th {\n",
       "        text-align: right;\n",
       "    }\n",
       "</style>\n",
       "<table border=\"1\" class=\"dataframe\">\n",
       "  <thead>\n",
       "    <tr style=\"text-align: right;\">\n",
       "      <th></th>\n",
       "      <th>sentiment</th>\n",
       "      <th>rolling</th>\n",
       "    </tr>\n",
       "    <tr>\n",
       "      <th>date</th>\n",
       "      <th></th>\n",
       "      <th></th>\n",
       "    </tr>\n",
       "  </thead>\n",
       "  <tbody>\n",
       "    <tr>\n",
       "      <th>01/30/21</th>\n",
       "      <td>0.123775</td>\n",
       "      <td>0.119056</td>\n",
       "    </tr>\n",
       "    <tr>\n",
       "      <th>01/31/21</th>\n",
       "      <td>0.179346</td>\n",
       "      <td>0.139529</td>\n",
       "    </tr>\n",
       "    <tr>\n",
       "      <th>02/02/21</th>\n",
       "      <td>0.083985</td>\n",
       "      <td>0.138104</td>\n",
       "    </tr>\n",
       "    <tr>\n",
       "      <th>02/04/21</th>\n",
       "      <td>0.119480</td>\n",
       "      <td>0.113074</td>\n",
       "    </tr>\n",
       "  </tbody>\n",
       "</table>\n",
       "</div>"
      ],
      "text/plain": [
       "          sentiment   rolling\n",
       "date                         \n",
       "01/30/21   0.123775  0.119056\n",
       "01/31/21   0.179346  0.139529\n",
       "02/02/21   0.083985  0.138104\n",
       "02/04/21   0.119480  0.113074"
      ]
     },
     "execution_count": 7,
     "metadata": {},
     "output_type": "execute_result"
    }
   ],
   "source": [
    "datelist = df1.date.unique()\n",
    "#for datetime in datelist:\n",
    "#    print(datetime, df[df.date == datetime]['corona'].mean())\n",
    "\n",
    "df1.groupby('date').mean()"
   ]
  },
  {
   "cell_type": "code",
   "execution_count": null,
   "metadata": {},
   "outputs": [],
   "source": []
  }
 ],
 "metadata": {
  "colab": {
   "collapsed_sections": [],
   "name": "twitter_GME/AMC.ipynb",
   "provenance": [],
   "toc_visible": true
  },
  "kernelspec": {
   "display_name": "Python 3",
   "language": "python",
   "name": "python3"
  },
  "language_info": {
   "codemirror_mode": {
    "name": "ipython",
    "version": 3
   },
   "file_extension": ".py",
   "mimetype": "text/x-python",
   "name": "python",
   "nbconvert_exporter": "python",
   "pygments_lexer": "ipython3",
   "version": "3.9.5"
  }
 },
 "nbformat": 4,
 "nbformat_minor": 4
}
