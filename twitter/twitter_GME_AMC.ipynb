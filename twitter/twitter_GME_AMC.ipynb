{
  "nbformat": 4,
  "nbformat_minor": 0,
  "metadata": {
    "colab": {
      "name": "twitter_GME/AMC.ipynb",
      "provenance": [],
      "collapsed_sections": [],
      "toc_visible": true
    },
    "kernelspec": {
      "display_name": "Python 3",
      "name": "python3"
    }
  },
  "cells": [
    {
      "cell_type": "code",
      "metadata": {
        "colab": {
          "base_uri": "https://localhost:8080/"
        },
        "id": "6Rww3hEgJZgS",
        "outputId": "66c05e04-ac86-4a14-e2f9-155966644319"
      },
      "source": [
        "# Market\n",
        "#from google.colab import drive\n",
        "#drive.mount('/content/drive')\n",
        "#change dir to your project folder\n",
        "%cd /content/drive/My Drive/Colab Notebooks/finance/  "
      ],
      "execution_count": null,
      "outputs": [
        {
          "output_type": "stream",
          "text": [
            "/content/drive/My Drive/Colab Notebooks/finance\n"
          ],
          "name": "stdout"
        }
      ]
    },
    {
      "cell_type": "code",
      "metadata": {
        "colab": {
          "base_uri": "https://localhost:8080/"
        },
        "id": "xC6NboNb6JCi",
        "outputId": "d4797aa1-26cf-44f7-ebef-b910d54416d1"
      },
      "source": [
        "ls"
      ],
      "execution_count": null,
      "outputs": [
        {
          "output_type": "stream",
          "text": [
            " Amazon.csv                                   Stock_Apple.csv\n",
            " AMC.csv                                      Stock_TSLA.csv\n",
            " Apple.csv                                    twitter_amazon.ipynb\n",
            " corona.csv                                   twitter_corona.ipynb\n",
            "'finance 0.1 stock data.ipynb'                twitter_corona.txt\n",
            "'finance 0.2 visulization.ipynb'             'twitter_GME AMC.ipynb'\n",
            " GME.csv                                      twitter_hd.ipynb\n",
            " “pytorch_feedforward_neural_network.ipynb”   twitter.ipynb\n"
          ],
          "name": "stdout"
        }
      ]
    },
    {
      "cell_type": "code",
      "metadata": {
        "colab": {
          "base_uri": "https://localhost:8080/"
        },
        "id": "wnKE7nNnZbJG",
        "outputId": "9bc826c2-26cb-4774-8832-e21e563f68b9"
      },
      "source": [
        "# https://tryolabs.com/blog/2015/02/17/python-elasticsearch-first-steps/\n",
        "import json, csv\n",
        "from tweepy.streaming import StreamListener\n",
        "from tweepy import OAuthHandler\n",
        "from tweepy import Stream\n",
        "from textblob import TextBlob\n",
        "\n",
        "from datetime import date\n",
        "today = date.today()\n",
        "today_date = today.strftime(\"%m/%d/%y\")\n",
        "\n",
        "# Go to http://apps.twitter.com and create an app.\n",
        "# The consumer key and secret will be generated for you after\n",
        "#add your twitter keys\n",
        "keys = \n",
        "consumer_secret = keys[1]\n",
        "access_token = keys[2]\n",
        "access_token_secret = keys[3]\n",
        "\n",
        "\n",
        "\n",
        "\n",
        "class TweetStreamListener(StreamListener):\n",
        "    def __init__(self):\n",
        "        super().__init__()\n",
        "        self.counter = 0\n",
        "        self.limit = 3000\n",
        "        self.csvfile = 'x.csv'\n",
        "\n",
        "    # on success\n",
        "    def on_data(self, data):\n",
        "        #### write data\n",
        "        #with open('twitter_corona.txt','a') as tf:\n",
        "        #  tf.write(data)\n",
        "        #return True\n",
        "\n",
        "\n",
        "        # decode json\n",
        "        dict_data = json.loads(data)\n",
        "\n",
        "        # pass tweet into TextBlob\n",
        "        try: tweet = TextBlob(dict_data[\"text\"])\n",
        "        except: #handle KeyError\n",
        "          return True # end current, continue to next twitter feed\n",
        "\n",
        "        # output sentiment polarity\n",
        "        #print(tweet.sentiment.polarity)\n",
        "        \n",
        "        if tweet.sentiment.polarity != 0:\n",
        "            with open(self.csvfile,'a', newline='') as hf:\n",
        "                hf_writer = csv.writer(hf, delimiter=',')\n",
        "                hf_writer.writerow([today_date, tweet.sentiment.polarity])\n",
        "            self.counter += 1\n",
        "    \n",
        "\n",
        "        # # determine if sentiment is positive, negative, or neutral\n",
        "        # if tweet.sentiment.polarity < 0:\n",
        "        #     sentiment = \"negative\"\n",
        "        # elif tweet.sentiment.polarity == 0:\n",
        "        #     sentiment = \"neutral\"\n",
        "        # else:\n",
        "        #     sentiment = \"positive\"\n",
        "\n",
        "        # # output sentiment\n",
        "        # # print(sentiment) \n",
        "        # with open('twitter_corona.txt','a') as tf:\n",
        "        #   tf.write(sentiment)\n",
        "        #   tf.write('\\n')\n",
        "\n",
        "\n",
        "        if self.counter < self.limit:\n",
        "            return True # end current, continue to next twitter feed\n",
        "        else:\n",
        "            print('Done with', self.csvfile, 'reached the limit ', self.limit)\n",
        "            return False  # end stream  \n",
        "\n",
        "    # on failure\n",
        "    def on_error(self, status):\n",
        "        print(status)\n",
        "\n",
        "if __name__ == '__main__':\n",
        "    # create instance of the tweepy tweet stream listener\n",
        "    listener1 = TweetStreamListener()\n",
        "    listener1.csvfile = 'GME.csv'\n",
        "\n",
        "    listener2 = TweetStreamListener()\n",
        "    listener2.csvfile = 'AMC.csv'\n",
        "\n",
        "    listener3 = TweetStreamListener()\n",
        "    listener3.csvfile = 'Amazon.csv'\n",
        "\n",
        "    listener4 = TweetStreamListener()\n",
        "    listener4.csvfile = 'Apple.csv'\n",
        "    # set twitter keys/tokens\n",
        "    auth = OAuthHandler(consumer_key, consumer_secret)\n",
        "    auth.set_access_token(access_token, access_token_secret)\n",
        "\n",
        "    # create instance of the tweepy stream\n",
        "    stream1 = Stream(auth, listener1)\n",
        "    #stream2 = Stream(auth, listener2)\n",
        "    stream3 = Stream(auth, listener3)\n",
        "    stream4 = Stream(auth, listener4)\n",
        "\n",
        "    # search twitter for keyword\n",
        "    stream1.filter(track=['GME','Gamestop', 'GameStop'])\n",
        "    #stream2.filter(track=['AMC','AMC theatres','AMC stock'])\n",
        "    stream3.filter(track=['Amazon','Amazon stock'])\n",
        "    stream4.filter(track=['Apple','Apple stock'])"
      ],
      "execution_count": null,
      "outputs": [
        {
          "output_type": "stream",
          "text": [
            "Done with GME.csv reached the limit  3000\n",
            "Done with Amazon.csv reached the limit  3000\n",
            "Done with Apple.csv reached the limit  3000\n"
          ],
          "name": "stdout"
        }
      ]
    },
    {
      "cell_type": "code",
      "metadata": {
        "colab": {
          "base_uri": "https://localhost:8080/",
          "height": 301
        },
        "id": "H_RUdnSL1bIn",
        "outputId": "85ddcc47-98be-4391-d7cd-5a5a3e54ec09"
      },
      "source": [
        "import pandas as pd\n",
        "df1 = pd.read_csv('GME.csv', header=None, delimiter = \",\")\n",
        "df1.columns = ['date', 'sentiment']\n",
        "print(df1.head())\n",
        "df2 = pd.read_csv('Amazon.csv', header=None, delimiter = \",\")\n",
        "df2.columns = ['date', 'sentiment']\n",
        "df2.head()\n"
      ],
      "execution_count": null,
      "outputs": [
        {
          "output_type": "stream",
          "text": [
            "       date  sentiment\n",
            "0  01/30/21  -0.250000\n",
            "1  01/30/21   0.100000\n",
            "2  01/30/21   0.183333\n",
            "3  01/30/21  -0.500000\n",
            "4  01/30/21   0.500000\n"
          ],
          "name": "stdout"
        },
        {
          "output_type": "execute_result",
          "data": {
            "text/html": [
              "<div>\n",
              "<style scoped>\n",
              "    .dataframe tbody tr th:only-of-type {\n",
              "        vertical-align: middle;\n",
              "    }\n",
              "\n",
              "    .dataframe tbody tr th {\n",
              "        vertical-align: top;\n",
              "    }\n",
              "\n",
              "    .dataframe thead th {\n",
              "        text-align: right;\n",
              "    }\n",
              "</style>\n",
              "<table border=\"1\" class=\"dataframe\">\n",
              "  <thead>\n",
              "    <tr style=\"text-align: right;\">\n",
              "      <th></th>\n",
              "      <th>date</th>\n",
              "      <th>sentiment</th>\n",
              "    </tr>\n",
              "  </thead>\n",
              "  <tbody>\n",
              "    <tr>\n",
              "      <th>0</th>\n",
              "      <td>01/31/21</td>\n",
              "      <td>0.100000</td>\n",
              "    </tr>\n",
              "    <tr>\n",
              "      <th>1</th>\n",
              "      <td>01/31/21</td>\n",
              "      <td>-0.100000</td>\n",
              "    </tr>\n",
              "    <tr>\n",
              "      <th>2</th>\n",
              "      <td>01/31/21</td>\n",
              "      <td>-0.166667</td>\n",
              "    </tr>\n",
              "    <tr>\n",
              "      <th>3</th>\n",
              "      <td>01/31/21</td>\n",
              "      <td>0.100000</td>\n",
              "    </tr>\n",
              "    <tr>\n",
              "      <th>4</th>\n",
              "      <td>01/31/21</td>\n",
              "      <td>0.500000</td>\n",
              "    </tr>\n",
              "  </tbody>\n",
              "</table>\n",
              "</div>"
            ],
            "text/plain": [
              "       date  sentiment\n",
              "0  01/31/21   0.100000\n",
              "1  01/31/21  -0.100000\n",
              "2  01/31/21  -0.166667\n",
              "3  01/31/21   0.100000\n",
              "4  01/31/21   0.500000"
            ]
          },
          "metadata": {
            "tags": []
          },
          "execution_count": 22
        }
      ]
    },
    {
      "cell_type": "code",
      "metadata": {
        "colab": {
          "base_uri": "https://localhost:8080/",
          "height": 265
        },
        "id": "pJEk2cG1Uzw-",
        "outputId": "2a0fc61d-9f47-437d-9b42-ab4c325b89cf"
      },
      "source": [
        "import matplotlib.pyplot as plt\n",
        "rolling_1000 = df1.sentiment.rolling(window=1000).mean()\n",
        "df1['rolling'] = rolling_1000.fillna(0)\n",
        "\n",
        "plt.plot(df1['rolling'],'r-')\n",
        "plt.show()\n",
        "\n",
        "\n",
        "#df1.groupby('class').plot(kind='kde', ax=plt.gca())"
      ],
      "execution_count": null,
      "outputs": [
        {
          "output_type": "display_data",
          "data": {
            "image/png": "[encoded data removed]",
            "text/plain": [
              "<Figure size 432x288 with 1 Axes>"
            ]
          },
          "metadata": {
            "tags": [],
            "needs_background": "light"
          }
        }
      ]
    },
    {
      "cell_type": "code",
      "metadata": {
        "colab": {
          "base_uri": "https://localhost:8080/"
        },
        "id": "eQubTAW8p2mM",
        "outputId": "e57ba137-ca3c-42f4-e591-467a1b96aee3"
      },
      "source": [
        "rolling_1000.fillna(0)"
      ],
      "execution_count": null,
      "outputs": [
        {
          "output_type": "execute_result",
          "data": {
            "text/plain": [
              "0        0.000000\n",
              "1        0.000000\n",
              "2        0.000000\n",
              "3        0.000000\n",
              "4        0.000000\n",
              "           ...   \n",
              "27472    0.126531\n",
              "27473    0.127342\n",
              "27474    0.127192\n",
              "27475    0.127498\n",
              "27476    0.126998\n",
              "Name: sentiment, Length: 27477, dtype: float64"
            ]
          },
          "metadata": {
            "tags": []
          },
          "execution_count": 20
        }
      ]
    },
    {
      "cell_type": "code",
      "metadata": {
        "colab": {
          "base_uri": "https://localhost:8080/",
          "height": 195
        },
        "id": "nur_C83f1FJI",
        "outputId": "2dcbb5ad-1cc5-4aa3-fca2-b904e09367ea"
      },
      "source": [
        "datelist = df1.date.unique()\n",
        "#for datetime in datelist:\n",
        "#    print(datetime, df[df.date == datetime]['corona'].mean())\n",
        "\n",
        "df1.groupby('date').mean()"
      ],
      "execution_count": null,
      "outputs": [
        {
          "output_type": "execute_result",
          "data": {
            "text/html": [
              "<div>\n",
              "<style scoped>\n",
              "    .dataframe tbody tr th:only-of-type {\n",
              "        vertical-align: middle;\n",
              "    }\n",
              "\n",
              "    .dataframe tbody tr th {\n",
              "        vertical-align: top;\n",
              "    }\n",
              "\n",
              "    .dataframe thead th {\n",
              "        text-align: right;\n",
              "    }\n",
              "</style>\n",
              "<table border=\"1\" class=\"dataframe\">\n",
              "  <thead>\n",
              "    <tr style=\"text-align: right;\">\n",
              "      <th></th>\n",
              "      <th>sentiment</th>\n",
              "      <th>rolling</th>\n",
              "    </tr>\n",
              "    <tr>\n",
              "      <th>date</th>\n",
              "      <th></th>\n",
              "      <th></th>\n",
              "    </tr>\n",
              "  </thead>\n",
              "  <tbody>\n",
              "    <tr>\n",
              "      <th>01/30/21</th>\n",
              "      <td>0.123775</td>\n",
              "      <td>0.119056</td>\n",
              "    </tr>\n",
              "    <tr>\n",
              "      <th>01/31/21</th>\n",
              "      <td>0.179346</td>\n",
              "      <td>0.139529</td>\n",
              "    </tr>\n",
              "    <tr>\n",
              "      <th>02/02/21</th>\n",
              "      <td>0.083985</td>\n",
              "      <td>0.138104</td>\n",
              "    </tr>\n",
              "    <tr>\n",
              "      <th>02/04/21</th>\n",
              "      <td>0.119480</td>\n",
              "      <td>0.113074</td>\n",
              "    </tr>\n",
              "  </tbody>\n",
              "</table>\n",
              "</div>"
            ],
            "text/plain": [
              "          sentiment   rolling\n",
              "date                         \n",
              "01/30/21   0.123775  0.119056\n",
              "01/31/21   0.179346  0.139529\n",
              "02/02/21   0.083985  0.138104\n",
              "02/04/21   0.119480  0.113074"
            ]
          },
          "metadata": {
            "tags": []
          },
          "execution_count": 31
        }
      ]
    }
  ]
}
